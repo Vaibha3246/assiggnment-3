{
 "cells": [
  {
   "cell_type": "code",
   "execution_count": 2,
   "id": "705ccd07-8632-44ea-a8f8-082916eb5563",
   "metadata": {},
   "outputs": [],
   "source": [
    "# assignment ( 2 feb)"
   ]
  },
  {
   "cell_type": "code",
   "execution_count": 3,
   "id": "708f6313-4cd8-4cc2-b44a-78142be9a7ec",
   "metadata": {},
   "outputs": [],
   "source": [
    "# question 1: explain with an example each when to use a for loop and while loop."
   ]
  },
  {
   "cell_type": "code",
   "execution_count": 1,
   "id": "125c36e4-f35a-4469-aecf-e86dc211582e",
   "metadata": {},
   "outputs": [
    {
     "name": "stdout",
     "output_type": "stream",
     "text": [
      "2\n",
      "4\n",
      "6\n",
      "79\n",
      "50.8\n",
      "(5+8j)\n",
      "vaibhav\n"
     ]
    }
   ],
   "source": [
    "# for loop: A loop that has set number of times to run :\n",
    "# example :  \n",
    "l=[2,4,6,79,50.8, 5+8j, \"vaibhav\"]\n",
    "\n",
    "for i in l: \n",
    "    print(i)"
   ]
  },
  {
   "cell_type": "code",
   "execution_count": 2,
   "id": "7f691a37-9f31-4c56-9f39-2532634cd884",
   "metadata": {},
   "outputs": [
    {
     "name": "stdout",
     "output_type": "stream",
     "text": [
      "1\n",
      "2\n",
      "3\n",
      "4\n",
      "5\n",
      "6\n",
      "7\n",
      "8\n",
      "9\n"
     ]
    }
   ],
   "source": [
    "# while loop : A loop that has indefinte number of times to run\n",
    "# example\n",
    "a=1\n",
    "while a<=9:\n",
    "    print(a)\n",
    "    a += 1"
   ]
  },
  {
   "cell_type": "code",
   "execution_count": 3,
   "id": "fca570c0-be6f-4c82-a34f-a53f71217200",
   "metadata": {},
   "outputs": [],
   "source": [
    "# question 2: write a python program to print the sum and product of the first  10 natural number using for and while loop"
   ]
  },
  {
   "cell_type": "code",
   "execution_count": 28,
   "id": "4bf0e291-96f4-48c3-a7b0-d8c8bb3b6388",
   "metadata": {},
   "outputs": [
    {
     "name": "stdout",
     "output_type": "stream",
     "text": [
      "sum 55\n",
      "product 3628800\n"
     ]
    }
   ],
   "source": [
    "sum=0 \n",
    "product=1\n",
    "i=1\n",
    "while i<=10:\n",
    "    sum = sum+i\n",
    "    product=product*i\n",
    "    i=i+1\n",
    "print(\"sum\",sum)\n",
    "print(\"product\",product)"
   ]
  },
  {
   "cell_type": "code",
   "execution_count": null,
   "id": "c819a41d-0a1c-4d3c-b625-13cd05efa83e",
   "metadata": {},
   "outputs": [],
   "source": [
    "# question 3: create a python program to compute the electricity bill for a house hold . \n",
    "# the per unit charge in rupees are as follows : for the first 100 unit the user will be charge rs. 4.5 per unit , for the next 100 unit , the user will \n",
    "# be charged rs. 6 per unit , and the next 100 unit , the user will be charged rs. 10 per unit , after the 300 and above  the user will be\n",
    "# charged rs.20 per unit .\n",
    "# you are required to take  the unitts of electricity consumed in a month from the user as input ."
   ]
  },
  {
   "cell_type": "code",
   "execution_count": 11,
   "id": "d5e31932-498d-431a-9e4a-ad4d8adbff6f",
   "metadata": {},
   "outputs": [
    {
     "name": "stdin",
     "output_type": "stream",
     "text": [
      "enter the consumed unit by the user in a month   310\n"
     ]
    },
    {
     "name": "stdout",
     "output_type": "stream",
     "text": [
      "2250.0\n"
     ]
    }
   ],
   "source": [
    "unit = int(input(\"enter the consumed unit by the user in a month  \"))\n",
    "bill=1\n",
    "if unit<=100:\n",
    "    bill= unit *4.5\n",
    "elif unit>100 and unit<=200:\n",
    "    new_unit= unit - 100\n",
    "    bill = new_unit*10    + 100*4.5\n",
    "elif unit>200 and unit <=300:\n",
    "    new_unit = unit - 200\n",
    "    bill =new_unit*10+100*4.5+ 100*6\n",
    "else :\n",
    "    new_unit= unit-300\n",
    "    bill =new_unit*20+100*4.5+100*6+100*10  \n",
    "print(bill)\n",
    "           "
   ]
  },
  {
   "cell_type": "code",
   "execution_count": 7,
   "id": "dbc9cfa0-6401-4297-bbed-8be5dead7502",
   "metadata": {},
   "outputs": [
    {
     "name": "stdout",
     "output_type": "stream",
     "text": [
      " i want to become a data scientist \n",
      "no.of vowels  12\n",
      "['i', 'a', 'o', 'e', 'o', 'e', 'a', 'a', 'a', 'i', 'e', 'i']\n"
     ]
    }
   ],
   "source": [
    "#  question 5 : wtite a progrgam to filter count vowels in the below - given string .\n",
    "l2=[]\n",
    "\n",
    "string= \" i want to become a data scientist \"\n",
    "string=string.lower()\n",
    "print(string)\n",
    "vowels= [\"a\",\"e\" ,\"i\", \"o\",\"u \"]\n",
    "count=0\n",
    "for char in string:\n",
    "    if char in vowels:\n",
    "        count=count+1\n",
    "        l2.append(char)\n",
    "print(\"no.of vowels \", count)\n",
    "print(l2)\n",
    "                       \n",
    "\n"
   ]
  },
  {
   "cell_type": "code",
   "execution_count": 8,
   "id": "2c2e49da-0c78-4623-a3be-44f71aa95d59",
   "metadata": {},
   "outputs": [],
   "source": [
    " #Q4. Create a list of numbers from 1 to 100. Use for loop and while loop to calculate the cube of each\n",
    "# number and if the cube of that number is divisible by 4 or 5 then append that number in a list and print\n",
    "# that list."
   ]
  },
  {
   "cell_type": "code",
   "execution_count": 15,
   "id": "6c31c9ea-f311-4ab8-87fe-e6cd5e6e49f2",
   "metadata": {},
   "outputs": [
    {
     "name": "stdout",
     "output_type": "stream",
     "text": [
      "[2, 4, 5, 6, 8, 10, 12, 14, 15, 16, 18, 20, 22, 24, 25, 26, 28, 30, 32, 34, 35, 36, 38, 40, 42, 44, 45, 46, 48, 50, 52, 54, 55, 56, 58, 60, 62, 64, 65, 66, 68, 70, 72, 74, 75, 76, 78, 80, 82, 84, 85, 86, 88, 90, 92, 94, 95, 96, 98, 100]\n"
     ]
    }
   ],
   "source": [
    "# using while loop\n",
    "l=[]\n",
    "l1=[]\n",
    "i=1\n",
    "while i<=100:\n",
    "    l.append(i)\n",
    "    if(i**3)%4==0 or (i**3)%5==0:\n",
    "        l1.append(i)\n",
    "    i=i+1 \n",
    "\n",
    "print(l1)\n",
    "print(\"number whose is divisible "
   ]
  },
  {
   "cell_type": "code",
   "execution_count": 16,
   "id": "d1b668d0-987f-4e99-a940-6eeb23d2ba5a",
   "metadata": {},
   "outputs": [
    {
     "name": "stdout",
     "output_type": "stream",
     "text": [
      "[1, 2, 3, 4, 5, 6, 7, 8, 9, 10, 11, 12, 13, 14, 15, 16, 17, 18, 19, 20, 21, 22, 23, 24, 25, 26, 27, 28, 29, 30, 31, 32, 33, 34, 35, 36, 37, 38, 39, 40, 41, 42, 43, 44, 45, 46, 47, 48, 49, 50, 51, 52, 53, 54, 55, 56, 57, 58, 59, 60, 61, 62, 63, 64, 65, 66, 67, 68, 69, 70, 71, 72, 73, 74, 75, 76, 77, 78, 79, 80, 81, 82, 83, 84, 85, 86, 87, 88, 89, 90, 91, 92, 93, 94, 95, 96, 97, 98, 99]\n",
      "number whose is divisible by 4 0r 5:\n",
      "[2, 4, 5, 6, 8, 10, 12, 14, 15, 16, 18, 20, 22, 24, 25, 26, 28, 30, 32, 34, 35, 36, 38, 40, 42, 44, 45, 46, 48, 50, 52, 54, 55, 56, 58, 60, 62, 64, 65, 66, 68, 70, 72, 74, 75, 76, 78, 80, 82, 84, 85, 86, 88, 90, 92, 94, 95, 96, 98]\n"
     ]
    }
   ],
   "source": [
    "#  using for loop\n",
    "l1=[]\n",
    "l2=[]\n",
    "for i in range(1,100):\n",
    "    l1.append(i)\n",
    "    if (i**3)%4==0 or (i**3)%5==0:\n",
    "        l2.append(i)\n",
    "    i=i+1\n",
    "print(l1)\n",
    "print(\"number whose is divisible by 4 0r 5:\")\n",
    "print(l2)"
   ]
  },
  {
   "cell_type": "code",
   "execution_count": null,
   "id": "d2ab26be-b16e-44a3-9743-8901d4275904",
   "metadata": {},
   "outputs": [],
   "source": []
  }
 ],
 "metadata": {
  "kernelspec": {
   "display_name": "Python 3 (ipykernel)",
   "language": "python",
   "name": "python3"
  },
  "language_info": {
   "codemirror_mode": {
    "name": "ipython",
    "version": 3
   },
   "file_extension": ".py",
   "mimetype": "text/x-python",
   "name": "python",
   "nbconvert_exporter": "python",
   "pygments_lexer": "ipython3",
   "version": "3.10.6"
  }
 },
 "nbformat": 4,
 "nbformat_minor": 5
}
